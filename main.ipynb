{
 "cells": [
  {
   "cell_type": "code",
   "execution_count": 7,
   "metadata": {},
   "outputs": [
    {
     "data": {
      "text/plain": [
       "rec_test (generic function with 1 method)"
      ]
     },
     "metadata": {},
     "output_type": "display_data"
    }
   ],
   "source": [
    "using JuMP, GLPK\n",
    "using LinearAlgebra\n",
    "\n",
    "include(\"loadSPP.jl\")\n",
    "include(\"setSPP.jl\")\n",
    "include(\"getfname.jl\")\n",
    "include(\"eval.jl\")\n",
    "include(\"solvers.jl\")"
   ]
  },
  {
   "cell_type": "code",
   "execution_count": 8,
   "metadata": {},
   "outputs": [
    {
     "name": "stdout",
     "output_type": "stream",
     "text": [
      "pwd = /home/labicquette/M1/meta/metaheuristics/Data\n",
      "fname = didactic.dat\n",
      "fname = pb_1000rnd0100.dat\n",
      "fname = pb_100rnd0100.dat\n",
      "fname = pb_2000rnd0100.dat\n",
      "fname = pb_200rnd0100.dat\n",
      "fname = pb_500rnd0100.dat\n"
     ]
    },
    {
     "ename": "MethodError",
     "evalue": "MethodError: no method matching iterate(::Nothing)\n\nClosest candidates are:\n  iterate(!Matched::Union{LinRange, StepRangeLen})\n   @ Base range.jl:880\n  iterate(!Matched::Union{LinRange, StepRangeLen}, !Matched::Integer)\n   @ Base range.jl:880\n  iterate(!Matched::T) where T<:Union{Base.KeySet{<:Any, <:Dict}, Base.ValueIterator{<:Dict}}\n   @ Base dict.jl:698\n  ...\n",
     "output_type": "error",
     "traceback": [
      "MethodError: no method matching iterate(::Nothing)\n",
      "\n",
      "Closest candidates are:\n",
      "  iterate(!Matched::Union{LinRange, StepRangeLen})\n",
      "   @ Base range.jl:880\n",
      "  iterate(!Matched::Union{LinRange, StepRangeLen}, !Matched::Integer)\n",
      "   @ Base range.jl:880\n",
      "  iterate(!Matched::T) where T<:Union{Base.KeySet{<:Any, <:Dict}, Base.ValueIterator{<:Dict}}\n",
      "   @ Base dict.jl:698\n",
      "  ...\n",
      "\n",
      "\n",
      "Stacktrace:\n",
      " [1] indexed_iterate(I::Nothing, i::Int64)\n",
      "   @ Base ./tuple.jl:91\n",
      " [2] multi_start(mat::Matrix{Int64}, cons::Matrix{Int64}, sorted::Vector{Int64}, best_res::Int64, best_arr::Vector{Float64}, res::Vector{Float64})\n",
      "   @ Main ~/M1/meta/metaheuristics/solvers.jl:33\n",
      " [3] optimiz(C::Matrix{Int64}, A::Matrix{Int64})\n",
      "   @ Main ~/M1/meta/metaheuristics/solvers.jl:18\n",
      " [4] eval(dir::String, nbRuns::Int64)\n",
      "   @ Main ~/M1/meta/metaheuristics/eval.jl:8\n",
      " [5] top-level scope\n",
      "   @ ~/M1/meta/metaheuristics/main.ipynb:1"
     ]
    }
   ],
   "source": [
    "eval(\"./Data/\", 10)"
   ]
  }
 ],
 "metadata": {
  "kernelspec": {
   "display_name": "Julia 1.9.3",
   "language": "julia",
   "name": "julia-1.9"
  },
  "language_info": {
   "file_extension": ".jl",
   "mimetype": "application/julia",
   "name": "julia",
   "version": "1.9.3"
  },
  "orig_nbformat": 4
 },
 "nbformat": 4,
 "nbformat_minor": 2
}
