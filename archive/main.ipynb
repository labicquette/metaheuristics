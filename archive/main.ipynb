{
 "cells": [
  {
   "cell_type": "code",
   "execution_count": 5,
   "metadata": {},
   "outputs": [
    {
     "data": {
      "text/plain": [
       "rec_test (generic function with 1 method)"
      ]
     },
     "metadata": {},
     "output_type": "display_data"
    }
   ],
   "source": [
    "using JuMP, GLPK\n",
    "using LinearAlgebra\n",
    "\n",
    "include(\"loadSPP.jl\")\n",
    "include(\"setSPP.jl\")\n",
    "include(\"getfname.jl\")\n",
    "include(\"eval.jl\")\n",
    "include(\"solvers.jl\")"
   ]
  },
  {
   "cell_type": "code",
   "execution_count": 6,
   "metadata": {},
   "outputs": [
    {
     "ename": "InterruptException",
     "evalue": "InterruptException:",
     "output_type": "error",
     "traceback": [
      "InterruptException:\n",
      "\n",
      "Stacktrace:\n",
      "  [1] Array\n",
      "    @ ./boot.jl:477 [inlined]\n",
      "  [2] Array\n",
      "    @ ./boot.jl:486 [inlined]\n",
      "  [3] similar\n",
      "    @ ./array.jl:374 [inlined]\n",
      "  [4] similar\n",
      "    @ ./abstractarray.jl:838 [inlined]\n",
      "  [5] _unsafe_getindex\n",
      "    @ ./multidimensional.jl:873 [inlined]\n",
      "  [6] _getindex\n",
      "    @ ./multidimensional.jl:861 [inlined]\n",
      "  [7] getindex\n",
      "    @ ./abstractarray.jl:1296 [inlined]\n",
      "  [8] macro expansion\n",
      "    @ ./timing.jl:273 [inlined]\n",
      "  [9] rec_opt(A::Matrix{Int64}, temp::Vector{Int64}, i::Int64)\n",
      "    @ Main ~/M1/MetaHeur/projet/solvers.jl:51\n",
      " [10] multi_start(mat::Matrix{Int64}, cons::Matrix{Int64}, sorted::Vector{Int64}, best_res::Int64, best_arr::Vector{Float64}, res::Vector{Float64})\n",
      "    @ Main ~/M1/MetaHeur/projet/solvers.jl:34\n",
      " [11] optimiz(C::Matrix{Int64}, A::Matrix{Int64})\n",
      "    @ Main ~/M1/MetaHeur/projet/solvers.jl:18\n",
      " [12] eval(dir::String, nbRuns::Int64)\n",
      "    @ Main ~/M1/MetaHeur/projet/eval.jl:8\n",
      " [13] top-level scope\n",
      "    @ ~/M1/MetaHeur/projet/main.ipynb:1"
     ]
    }
   ],
   "source": [
    "eval(\"./mediumdata/\", 5)"
   ]
  }
 ],
 "metadata": {
  "kernelspec": {
   "display_name": "Julia 1.9.3",
   "language": "julia",
   "name": "julia-1.9"
  },
  "language_info": {
   "file_extension": ".jl",
   "mimetype": "application/julia",
   "name": "julia",
   "version": "1.9.3"
  },
  "orig_nbformat": 4
 },
 "nbformat": 4,
 "nbformat_minor": 2
}
